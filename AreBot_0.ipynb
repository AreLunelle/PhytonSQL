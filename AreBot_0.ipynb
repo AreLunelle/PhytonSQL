{
  "nbformat": 4,
  "nbformat_minor": 0,
  "metadata": {
    "colab": {
      "provenance": [],
      "authorship_tag": "ABX9TyNo9st1Ci7gif81WScuJETy",
      "include_colab_link": true
    },
    "kernelspec": {
      "name": "python3",
      "display_name": "Python 3"
    },
    "language_info": {
      "name": "python"
    }
  },
  "cells": [
    {
      "cell_type": "markdown",
      "metadata": {
        "id": "view-in-github",
        "colab_type": "text"
      },
      "source": [
        "<a href=\"https://colab.research.google.com/github/AreLunelle/PhytonSQL/blob/main/AreBot_0.ipynb\" target=\"_parent\"><img src=\"https://colab.research.google.com/assets/colab-badge.svg\" alt=\"Open In Colab\"/></a>"
      ]
    },
    {
      "cell_type": "markdown",
      "source": [
        "Librerias"
      ],
      "metadata": {
        "id": "csQ45hD5oENP"
      }
    },
    {
      "cell_type": "code",
      "source": [
        "import tensorflow as tf\n",
        "from tensorflow.keras.models import Sequential\n",
        "from tensorflow.keras.layers import Embedding, Flatten, Dense\n",
        "from tensorflow.keras.preprocessing.text import Tokenizer\n",
        "from tensorflow.keras.preprocessing.sequence import pad_sequences"
      ],
      "metadata": {
        "id": "Tslx09QMoFgB"
      },
      "execution_count": 13,
      "outputs": []
    },
    {
      "cell_type": "markdown",
      "source": [
        "Dataset Textual"
      ],
      "metadata": {
        "id": "ZQ31jiREoLNn"
      }
    },
    {
      "cell_type": "code",
      "source": [
        "frases = [\n",
        "    \"hola\", \"buenos días\", \"buenas tardes\",     # saludo\n",
        "    \"te amo\", \"me encantas\", \"te quiero mucho\", \"me haces feliz\", \"me gustas\",    # amor\n",
        "    \"te odio\", \"vete\", \"no me hables\", \"me haces llorar\", \"estoy triste\", \"me caes mal\", \"lo siento\"   # enojo/tristeza\n",
        "]\n",
        "\n",
        "etiquetas = [0, 0, 0, 1, 1, 1, 1, 1, 2, 2, 2, 2, 2, 2, 2]\n"
      ],
      "metadata": {
        "id": "zL2xn7anoN43"
      },
      "execution_count": 14,
      "outputs": []
    },
    {
      "cell_type": "markdown",
      "source": [
        "Tokenizar"
      ],
      "metadata": {
        "id": "z3O128fGoQXB"
      }
    },
    {
      "cell_type": "code",
      "source": [
        "tokenizer = Tokenizer()\n",
        "tokenizer.fit_on_texts(frases)\n",
        "secuencias = tokenizer.texts_to_sequences(frases)\n",
        "\n",
        "# Emparejar el tamaño de las secuencias\n",
        "padded_secuencias = pad_sequences(secuencias) #rellena con ceros para que todas tengan el mismo tamaño"
      ],
      "metadata": {
        "id": "1ZZ0lAzcoR54"
      },
      "execution_count": 15,
      "outputs": []
    },
    {
      "cell_type": "markdown",
      "source": [
        "Red Neuronal"
      ],
      "metadata": {
        "id": "GJgJIc7MoiE5"
      }
    },
    {
      "cell_type": "code",
      "source": [
        "model = Sequential([\n",
        "    Embedding(input_dim=50, output_dim=8, input_length=padded_secuencias.shape[1]),\n",
        "    Flatten(),\n",
        "    Dense(8, activation='relu'),\n",
        "    Dense(3, activation='softmax')  # 3 clases: saludo, amor, enojo\n",
        "])\n",
        "#Embedding convierte palabras en numeros\n",
        "#Dense es el corazón neuronal\n",
        "#Softmax probabilidad para cada categoria"
      ],
      "metadata": {
        "id": "QiHorFpFojiU"
      },
      "execution_count": 16,
      "outputs": []
    },
    {
      "cell_type": "markdown",
      "source": [
        "Entrenar"
      ],
      "metadata": {
        "id": "nKWIyTReo0cR"
      }
    },
    {
      "cell_type": "code",
      "source": [
        "model.compile(optimizer='adam', loss='sparse_categorical_crossentropy', metrics=['accuracy'])\n",
        "\n",
        "import numpy as np\n",
        "\n",
        "padded_secuencias = np.array(padded_secuencias)\n",
        "etiquetas = np.array(etiquetas)\n",
        "\n",
        "model.fit(padded_secuencias, etiquetas, epochs=30, verbose=1)"
      ],
      "metadata": {
        "colab": {
          "base_uri": "https://localhost:8080/"
        },
        "id": "gLuomdAro1aE",
        "outputId": "59a210aa-5faf-4873-84f4-56bc2631b986"
      },
      "execution_count": 21,
      "outputs": [
        {
          "output_type": "stream",
          "name": "stdout",
          "text": [
            "Epoch 1/30\n",
            "\u001b[1m1/1\u001b[0m \u001b[32m━━━━━━━━━━━━━━━━━━━━\u001b[0m\u001b[37m\u001b[0m \u001b[1m1s\u001b[0m 1s/step - accuracy: 0.9333 - loss: 0.8747\n",
            "Epoch 2/30\n",
            "\u001b[1m1/1\u001b[0m \u001b[32m━━━━━━━━━━━━━━━━━━━━\u001b[0m\u001b[37m\u001b[0m \u001b[1m0s\u001b[0m 46ms/step - accuracy: 0.9333 - loss: 0.8699\n",
            "Epoch 3/30\n",
            "\u001b[1m1/1\u001b[0m \u001b[32m━━━━━━━━━━━━━━━━━━━━\u001b[0m\u001b[37m\u001b[0m \u001b[1m0s\u001b[0m 61ms/step - accuracy: 0.9333 - loss: 0.8649\n",
            "Epoch 4/30\n",
            "\u001b[1m1/1\u001b[0m \u001b[32m━━━━━━━━━━━━━━━━━━━━\u001b[0m\u001b[37m\u001b[0m \u001b[1m0s\u001b[0m 59ms/step - accuracy: 0.9333 - loss: 0.8600\n",
            "Epoch 5/30\n",
            "\u001b[1m1/1\u001b[0m \u001b[32m━━━━━━━━━━━━━━━━━━━━\u001b[0m\u001b[37m\u001b[0m \u001b[1m0s\u001b[0m 57ms/step - accuracy: 0.9333 - loss: 0.8551\n",
            "Epoch 6/30\n",
            "\u001b[1m1/1\u001b[0m \u001b[32m━━━━━━━━━━━━━━━━━━━━\u001b[0m\u001b[37m\u001b[0m \u001b[1m0s\u001b[0m 75ms/step - accuracy: 0.9333 - loss: 0.8502\n",
            "Epoch 7/30\n",
            "\u001b[1m1/1\u001b[0m \u001b[32m━━━━━━━━━━━━━━━━━━━━\u001b[0m\u001b[37m\u001b[0m \u001b[1m0s\u001b[0m 55ms/step - accuracy: 0.9333 - loss: 0.8453\n",
            "Epoch 8/30\n",
            "\u001b[1m1/1\u001b[0m \u001b[32m━━━━━━━━━━━━━━━━━━━━\u001b[0m\u001b[37m\u001b[0m \u001b[1m0s\u001b[0m 58ms/step - accuracy: 0.9333 - loss: 0.8404\n",
            "Epoch 9/30\n",
            "\u001b[1m1/1\u001b[0m \u001b[32m━━━━━━━━━━━━━━━━━━━━\u001b[0m\u001b[37m\u001b[0m \u001b[1m0s\u001b[0m 60ms/step - accuracy: 0.9333 - loss: 0.8354\n",
            "Epoch 10/30\n",
            "\u001b[1m1/1\u001b[0m \u001b[32m━━━━━━━━━━━━━━━━━━━━\u001b[0m\u001b[37m\u001b[0m \u001b[1m0s\u001b[0m 134ms/step - accuracy: 0.9333 - loss: 0.8305\n",
            "Epoch 11/30\n",
            "\u001b[1m1/1\u001b[0m \u001b[32m━━━━━━━━━━━━━━━━━━━━\u001b[0m\u001b[37m\u001b[0m \u001b[1m0s\u001b[0m 52ms/step - accuracy: 0.9333 - loss: 0.8255\n",
            "Epoch 12/30\n",
            "\u001b[1m1/1\u001b[0m \u001b[32m━━━━━━━━━━━━━━━━━━━━\u001b[0m\u001b[37m\u001b[0m \u001b[1m0s\u001b[0m 57ms/step - accuracy: 0.9333 - loss: 0.8205\n",
            "Epoch 13/30\n",
            "\u001b[1m1/1\u001b[0m \u001b[32m━━━━━━━━━━━━━━━━━━━━\u001b[0m\u001b[37m\u001b[0m \u001b[1m0s\u001b[0m 58ms/step - accuracy: 0.9333 - loss: 0.8155\n",
            "Epoch 14/30\n",
            "\u001b[1m1/1\u001b[0m \u001b[32m━━━━━━━━━━━━━━━━━━━━\u001b[0m\u001b[37m\u001b[0m \u001b[1m0s\u001b[0m 54ms/step - accuracy: 0.9333 - loss: 0.8105\n",
            "Epoch 15/30\n",
            "\u001b[1m1/1\u001b[0m \u001b[32m━━━━━━━━━━━━━━━━━━━━\u001b[0m\u001b[37m\u001b[0m \u001b[1m0s\u001b[0m 54ms/step - accuracy: 0.9333 - loss: 0.8054\n",
            "Epoch 16/30\n",
            "\u001b[1m1/1\u001b[0m \u001b[32m━━━━━━━━━━━━━━━━━━━━\u001b[0m\u001b[37m\u001b[0m \u001b[1m0s\u001b[0m 56ms/step - accuracy: 0.9333 - loss: 0.8003\n",
            "Epoch 17/30\n",
            "\u001b[1m1/1\u001b[0m \u001b[32m━━━━━━━━━━━━━━━━━━━━\u001b[0m\u001b[37m\u001b[0m \u001b[1m0s\u001b[0m 61ms/step - accuracy: 0.9333 - loss: 0.7952\n",
            "Epoch 18/30\n",
            "\u001b[1m1/1\u001b[0m \u001b[32m━━━━━━━━━━━━━━━━━━━━\u001b[0m\u001b[37m\u001b[0m \u001b[1m0s\u001b[0m 54ms/step - accuracy: 0.9333 - loss: 0.7901\n",
            "Epoch 19/30\n",
            "\u001b[1m1/1\u001b[0m \u001b[32m━━━━━━━━━━━━━━━━━━━━\u001b[0m\u001b[37m\u001b[0m \u001b[1m0s\u001b[0m 52ms/step - accuracy: 0.9333 - loss: 0.7850\n",
            "Epoch 20/30\n",
            "\u001b[1m1/1\u001b[0m \u001b[32m━━━━━━━━━━━━━━━━━━━━\u001b[0m\u001b[37m\u001b[0m \u001b[1m0s\u001b[0m 63ms/step - accuracy: 0.9333 - loss: 0.7798\n",
            "Epoch 21/30\n",
            "\u001b[1m1/1\u001b[0m \u001b[32m━━━━━━━━━━━━━━━━━━━━\u001b[0m\u001b[37m\u001b[0m \u001b[1m0s\u001b[0m 55ms/step - accuracy: 0.9333 - loss: 0.7747\n",
            "Epoch 22/30\n",
            "\u001b[1m1/1\u001b[0m \u001b[32m━━━━━━━━━━━━━━━━━━━━\u001b[0m\u001b[37m\u001b[0m \u001b[1m0s\u001b[0m 63ms/step - accuracy: 0.9333 - loss: 0.7695\n",
            "Epoch 23/30\n",
            "\u001b[1m1/1\u001b[0m \u001b[32m━━━━━━━━━━━━━━━━━━━━\u001b[0m\u001b[37m\u001b[0m \u001b[1m0s\u001b[0m 124ms/step - accuracy: 0.9333 - loss: 0.7643\n",
            "Epoch 24/30\n",
            "\u001b[1m1/1\u001b[0m \u001b[32m━━━━━━━━━━━━━━━━━━━━\u001b[0m\u001b[37m\u001b[0m \u001b[1m0s\u001b[0m 46ms/step - accuracy: 0.9333 - loss: 0.7592\n",
            "Epoch 25/30\n",
            "\u001b[1m1/1\u001b[0m \u001b[32m━━━━━━━━━━━━━━━━━━━━\u001b[0m\u001b[37m\u001b[0m \u001b[1m0s\u001b[0m 47ms/step - accuracy: 0.9333 - loss: 0.7540\n",
            "Epoch 26/30\n",
            "\u001b[1m1/1\u001b[0m \u001b[32m━━━━━━━━━━━━━━━━━━━━\u001b[0m\u001b[37m\u001b[0m \u001b[1m0s\u001b[0m 48ms/step - accuracy: 0.9333 - loss: 0.7487\n",
            "Epoch 27/30\n",
            "\u001b[1m1/1\u001b[0m \u001b[32m━━━━━━━━━━━━━━━━━━━━\u001b[0m\u001b[37m\u001b[0m \u001b[1m0s\u001b[0m 44ms/step - accuracy: 0.9333 - loss: 0.7435\n",
            "Epoch 28/30\n",
            "\u001b[1m1/1\u001b[0m \u001b[32m━━━━━━━━━━━━━━━━━━━━\u001b[0m\u001b[37m\u001b[0m \u001b[1m0s\u001b[0m 44ms/step - accuracy: 0.9333 - loss: 0.7383\n",
            "Epoch 29/30\n",
            "\u001b[1m1/1\u001b[0m \u001b[32m━━━━━━━━━━━━━━━━━━━━\u001b[0m\u001b[37m\u001b[0m \u001b[1m0s\u001b[0m 48ms/step - accuracy: 0.9333 - loss: 0.7330\n",
            "Epoch 30/30\n",
            "\u001b[1m1/1\u001b[0m \u001b[32m━━━━━━━━━━━━━━━━━━━━\u001b[0m\u001b[37m\u001b[0m \u001b[1m0s\u001b[0m 47ms/step - accuracy: 0.9333 - loss: 0.7277\n"
          ]
        },
        {
          "output_type": "execute_result",
          "data": {
            "text/plain": [
              "<keras.src.callbacks.history.History at 0x7ceb357d3310>"
            ]
          },
          "metadata": {},
          "execution_count": 21
        }
      ]
    },
    {
      "cell_type": "markdown",
      "source": [
        "Predicciones"
      ],
      "metadata": {
        "id": "0OOBoLbeo7HQ"
      }
    },
    {
      "cell_type": "code",
      "source": [
        "nueva_frase = [\"Te quiero mucho\"]\n",
        "nueva_sec = tokenizer.texts_to_sequences(nueva_frase)\n",
        "nueva_pad = pad_sequences(nueva_sec, maxlen=padded_secuencias.shape[1])\n",
        "\n",
        "pred = model.predict(nueva_pad)\n",
        "print(\"Predicción:\", tf.argmax(pred, axis=1).numpy())"
      ],
      "metadata": {
        "colab": {
          "base_uri": "https://localhost:8080/"
        },
        "id": "IS5cvlyZo8ty",
        "outputId": "0b2ee491-2a0b-470b-eed0-ff1e1d0d7956"
      },
      "execution_count": 22,
      "outputs": [
        {
          "output_type": "stream",
          "name": "stdout",
          "text": [
            "\u001b[1m1/1\u001b[0m \u001b[32m━━━━━━━━━━━━━━━━━━━━\u001b[0m\u001b[37m\u001b[0m \u001b[1m0s\u001b[0m 92ms/step\n",
            "Predicción: [1]\n"
          ]
        }
      ]
    },
    {
      "cell_type": "markdown",
      "source": [
        "Texto"
      ],
      "metadata": {
        "id": "ISxDPCsoqm0z"
      }
    },
    {
      "cell_type": "code",
      "source": [
        "emociones = [\"saludo\", \"amor\", \"enojo/tristeza\"]\n",
        "print(\"Emoción detectada:\", emociones[tf.argmax(pred, axis=1).numpy()[0]])"
      ],
      "metadata": {
        "colab": {
          "base_uri": "https://localhost:8080/"
        },
        "id": "gCZe3_p9qn3N",
        "outputId": "686a73d5-1f5c-456a-ca95-c6beb3cc8771"
      },
      "execution_count": 23,
      "outputs": [
        {
          "output_type": "stream",
          "name": "stdout",
          "text": [
            "Emoción detectada: amor\n"
          ]
        }
      ]
    },
    {
      "cell_type": "markdown",
      "source": [
        "Interacción tiempo real"
      ],
      "metadata": {
        "id": "yKQrBBFircbM"
      }
    },
    {
      "cell_type": "code",
      "source": [
        "emociones = [\"saludo\", \"amor\", \"enojo/tristeza\"]\n",
        "respuestas = {\n",
        "    \"saludo\": \"¡Hola! Qué gusto saludarte 😊\",\n",
        "    \"amor\": \"Siento amor en tus palabras. Qué bonito 💕\",\n",
        "    \"enojo/tristeza\": \"Tu tono suena triste. ¿Todo bien? 😢\"\n",
        "}\n",
        "\n",
        "while True:\n",
        "    frase_usuario = input(\"Escribe una frase (o 'salir' para terminar): \")\n",
        "    if frase_usuario.lower() == \"salir\":\n",
        "        print(\"👋 ¡Hasta luego!\")\n",
        "        break\n",
        "\n",
        "    secuencia = tokenizer.texts_to_sequences([frase_usuario])\n",
        "    secuencia_padded = pad_sequences(secuencia, maxlen=padded_secuencias.shape[1])\n",
        "\n",
        "    pred = model.predict(secuencia_padded)\n",
        "    emocion_detectada = emociones[tf.argmax(pred, axis=1).numpy()[0]]\n",
        "\n",
        "    print(\"🔍 Emoción detectada:\", emocion_detectada)\n",
        "    print(\"🤖 Respuesta del bot:\", respuestas[emocion_detectada])\n",
        "    print()\n"
      ],
      "metadata": {
        "colab": {
          "base_uri": "https://localhost:8080/"
        },
        "id": "kK75dR10rgtj",
        "outputId": "2399d99b-7914-4759-8bed-63805728847c"
      },
      "execution_count": 24,
      "outputs": [
        {
          "output_type": "stream",
          "name": "stdout",
          "text": [
            "Escribe una frase (o 'salir' para terminar): ¡Hola, te extrañé!\n",
            "\u001b[1m1/1\u001b[0m \u001b[32m━━━━━━━━━━━━━━━━━━━━\u001b[0m\u001b[37m\u001b[0m \u001b[1m0s\u001b[0m 35ms/step\n",
            "🔍 Emoción detectada: enojo/tristeza\n",
            "🤖 Respuesta del bot: Tu tono suena triste. ¿Todo bien? 😢\n",
            "\n",
            "Escribe una frase (o 'salir' para terminar): Si, estoy bien. Un poco triste por que queria salir a jugar. Pero no importa.\n",
            "\u001b[1m1/1\u001b[0m \u001b[32m━━━━━━━━━━━━━━━━━━━━\u001b[0m\u001b[37m\u001b[0m \u001b[1m0s\u001b[0m 34ms/step\n",
            "🔍 Emoción detectada: amor\n",
            "🤖 Respuesta del bot: Siento amor en tus palabras. Qué bonito 💕\n",
            "\n",
            "Escribe una frase (o 'salir' para terminar): ¡No me hables!\n",
            "\u001b[1m1/1\u001b[0m \u001b[32m━━━━━━━━━━━━━━━━━━━━\u001b[0m\u001b[37m\u001b[0m \u001b[1m0s\u001b[0m 44ms/step\n",
            "🔍 Emoción detectada: enojo/tristeza\n",
            "🤖 Respuesta del bot: Tu tono suena triste. ¿Todo bien? 😢\n",
            "\n",
            "Escribe una frase (o 'salir' para terminar): No, NO QUIERO HABLAR. YA TE DIJE\n",
            "\u001b[1m1/1\u001b[0m \u001b[32m━━━━━━━━━━━━━━━━━━━━\u001b[0m\u001b[37m\u001b[0m \u001b[1m0s\u001b[0m 40ms/step\n",
            "🔍 Emoción detectada: enojo/tristeza\n",
            "🤖 Respuesta del bot: Tu tono suena triste. ¿Todo bien? 😢\n",
            "\n",
            "Escribe una frase (o 'salir' para terminar): Bueno, esta bien. Te quiero mucho.\n",
            "\u001b[1m1/1\u001b[0m \u001b[32m━━━━━━━━━━━━━━━━━━━━\u001b[0m\u001b[37m\u001b[0m \u001b[1m0s\u001b[0m 54ms/step\n",
            "🔍 Emoción detectada: amor\n",
            "🤖 Respuesta del bot: Siento amor en tus palabras. Qué bonito 💕\n",
            "\n",
            "Escribe una frase (o 'salir' para terminar): \n",
            "\u001b[1m1/1\u001b[0m \u001b[32m━━━━━━━━━━━━━━━━━━━━\u001b[0m\u001b[37m\u001b[0m \u001b[1m0s\u001b[0m 36ms/step\n",
            "🔍 Emoción detectada: saludo\n",
            "🤖 Respuesta del bot: ¡Hola! Qué gusto saludarte 😊\n",
            "\n",
            "Escribe una frase (o 'salir' para terminar): salir\n",
            "👋 ¡Hasta luego!\n"
          ]
        }
      ]
    }
  ]
}